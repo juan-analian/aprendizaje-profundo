{
 "cells": [
  {
   "cell_type": "code",
   "execution_count": 1,
   "metadata": {},
   "outputs": [],
   "source": [
    "import os\n",
    "import numpy\n",
    "import pandas\n",
    "import seaborn\n",
    "import matplotlib.pyplot as plt\n",
    "from sklearn.model_selection import train_test_split\n",
    "\n",
    "seaborn.set_style('whitegrid')\n",
    "seaborn.set_palette('colorblind')\n",
    "seaborn.set_context('paper')"
   ]
  },
  {
   "cell_type": "code",
   "execution_count": 2,
   "metadata": {},
   "outputs": [],
   "source": [
    "DATA_DIRECTORY = './petfinder_dataset/'\n",
    "TARGET_COL = 'AdoptionSpeed'"
   ]
  },
  {
   "cell_type": "code",
   "execution_count": 3,
   "metadata": {},
   "outputs": [],
   "source": [
    "def load_dataset(dataset_dir):\n",
    "\n",
    "    # Read train dataset (and maybe dev, if you need to...)\n",
    "    dataset, dev_dataset = train_test_split(\n",
    "        pandas.read_csv(os.path.join(dataset_dir, 'train.csv')), test_size=0.2)\n",
    "         \n",
    "    test_dataset = pandas.read_csv(os.path.join(dataset_dir, 'test.csv'))\n",
    "    \n",
    "    print('Training samples {}, test_samples {}'.format(\n",
    "        dataset.shape[0], test_dataset.shape[0]))\n",
    "    \n",
    "    return dataset, dev_dataset, test_dataset"
   ]
  },
  {
   "cell_type": "code",
   "execution_count": 4,
   "metadata": {},
   "outputs": [
    {
     "name": "stdout",
     "output_type": "stream",
     "text": [
      "Training samples 8465, test_samples 4411\n"
     ]
    },
    {
     "data": {
      "text/html": [
       "<div>\n",
       "<style scoped>\n",
       "    .dataframe tbody tr th:only-of-type {\n",
       "        vertical-align: middle;\n",
       "    }\n",
       "\n",
       "    .dataframe tbody tr th {\n",
       "        vertical-align: top;\n",
       "    }\n",
       "\n",
       "    .dataframe thead th {\n",
       "        text-align: right;\n",
       "    }\n",
       "</style>\n",
       "<table border=\"1\" class=\"dataframe\">\n",
       "  <thead>\n",
       "    <tr style=\"text-align: right;\">\n",
       "      <th></th>\n",
       "      <th>Type</th>\n",
       "      <th>Age</th>\n",
       "      <th>Breed1</th>\n",
       "      <th>Breed2</th>\n",
       "      <th>Gender</th>\n",
       "      <th>Color1</th>\n",
       "      <th>Color2</th>\n",
       "      <th>Color3</th>\n",
       "      <th>MaturitySize</th>\n",
       "      <th>FurLength</th>\n",
       "      <th>Vaccinated</th>\n",
       "      <th>Dewormed</th>\n",
       "      <th>Sterilized</th>\n",
       "      <th>Health</th>\n",
       "      <th>Quantity</th>\n",
       "      <th>Fee</th>\n",
       "      <th>State</th>\n",
       "      <th>AdoptionSpeed</th>\n",
       "      <th>PID</th>\n",
       "    </tr>\n",
       "  </thead>\n",
       "  <tbody>\n",
       "    <tr>\n",
       "      <td>count</td>\n",
       "      <td>8465.000000</td>\n",
       "      <td>8465.000000</td>\n",
       "      <td>8465.000000</td>\n",
       "      <td>8465.000000</td>\n",
       "      <td>8465.000000</td>\n",
       "      <td>8465.000000</td>\n",
       "      <td>8465.000000</td>\n",
       "      <td>8465.000000</td>\n",
       "      <td>8465.000000</td>\n",
       "      <td>8465.000000</td>\n",
       "      <td>8465.000000</td>\n",
       "      <td>8465.000000</td>\n",
       "      <td>8465.000000</td>\n",
       "      <td>8465.000000</td>\n",
       "      <td>8465.000000</td>\n",
       "      <td>8465.000000</td>\n",
       "      <td>8465.000000</td>\n",
       "      <td>8465.000000</td>\n",
       "      <td>8465.000000</td>\n",
       "    </tr>\n",
       "    <tr>\n",
       "      <td>mean</td>\n",
       "      <td>1.453160</td>\n",
       "      <td>10.393621</td>\n",
       "      <td>265.767750</td>\n",
       "      <td>74.309155</td>\n",
       "      <td>1.779917</td>\n",
       "      <td>2.235558</td>\n",
       "      <td>3.228825</td>\n",
       "      <td>1.852688</td>\n",
       "      <td>1.861784</td>\n",
       "      <td>1.466037</td>\n",
       "      <td>1.729711</td>\n",
       "      <td>1.567986</td>\n",
       "      <td>1.909864</td>\n",
       "      <td>1.036976</td>\n",
       "      <td>1.585470</td>\n",
       "      <td>21.387714</td>\n",
       "      <td>41345.893089</td>\n",
       "      <td>2.522032</td>\n",
       "      <td>7501.166450</td>\n",
       "    </tr>\n",
       "    <tr>\n",
       "      <td>std</td>\n",
       "      <td>0.497831</td>\n",
       "      <td>17.874214</td>\n",
       "      <td>59.574473</td>\n",
       "      <td>123.397664</td>\n",
       "      <td>0.681322</td>\n",
       "      <td>1.749976</td>\n",
       "      <td>2.745287</td>\n",
       "      <td>2.972092</td>\n",
       "      <td>0.545895</td>\n",
       "      <td>0.596984</td>\n",
       "      <td>0.667888</td>\n",
       "      <td>0.700318</td>\n",
       "      <td>0.559991</td>\n",
       "      <td>0.199665</td>\n",
       "      <td>1.475878</td>\n",
       "      <td>80.814709</td>\n",
       "      <td>32.356357</td>\n",
       "      <td>1.173719</td>\n",
       "      <td>4305.337337</td>\n",
       "    </tr>\n",
       "    <tr>\n",
       "      <td>min</td>\n",
       "      <td>1.000000</td>\n",
       "      <td>0.000000</td>\n",
       "      <td>0.000000</td>\n",
       "      <td>0.000000</td>\n",
       "      <td>1.000000</td>\n",
       "      <td>1.000000</td>\n",
       "      <td>0.000000</td>\n",
       "      <td>0.000000</td>\n",
       "      <td>1.000000</td>\n",
       "      <td>1.000000</td>\n",
       "      <td>1.000000</td>\n",
       "      <td>1.000000</td>\n",
       "      <td>1.000000</td>\n",
       "      <td>1.000000</td>\n",
       "      <td>1.000000</td>\n",
       "      <td>0.000000</td>\n",
       "      <td>41324.000000</td>\n",
       "      <td>0.000000</td>\n",
       "      <td>0.000000</td>\n",
       "    </tr>\n",
       "    <tr>\n",
       "      <td>25%</td>\n",
       "      <td>1.000000</td>\n",
       "      <td>2.000000</td>\n",
       "      <td>265.000000</td>\n",
       "      <td>0.000000</td>\n",
       "      <td>1.000000</td>\n",
       "      <td>1.000000</td>\n",
       "      <td>0.000000</td>\n",
       "      <td>0.000000</td>\n",
       "      <td>2.000000</td>\n",
       "      <td>1.000000</td>\n",
       "      <td>1.000000</td>\n",
       "      <td>1.000000</td>\n",
       "      <td>2.000000</td>\n",
       "      <td>1.000000</td>\n",
       "      <td>1.000000</td>\n",
       "      <td>0.000000</td>\n",
       "      <td>41326.000000</td>\n",
       "      <td>2.000000</td>\n",
       "      <td>3777.000000</td>\n",
       "    </tr>\n",
       "    <tr>\n",
       "      <td>50%</td>\n",
       "      <td>1.000000</td>\n",
       "      <td>3.000000</td>\n",
       "      <td>266.000000</td>\n",
       "      <td>0.000000</td>\n",
       "      <td>2.000000</td>\n",
       "      <td>2.000000</td>\n",
       "      <td>2.000000</td>\n",
       "      <td>0.000000</td>\n",
       "      <td>2.000000</td>\n",
       "      <td>1.000000</td>\n",
       "      <td>2.000000</td>\n",
       "      <td>1.000000</td>\n",
       "      <td>2.000000</td>\n",
       "      <td>1.000000</td>\n",
       "      <td>1.000000</td>\n",
       "      <td>0.000000</td>\n",
       "      <td>41326.000000</td>\n",
       "      <td>2.000000</td>\n",
       "      <td>7530.000000</td>\n",
       "    </tr>\n",
       "    <tr>\n",
       "      <td>75%</td>\n",
       "      <td>2.000000</td>\n",
       "      <td>12.000000</td>\n",
       "      <td>307.000000</td>\n",
       "      <td>187.000000</td>\n",
       "      <td>2.000000</td>\n",
       "      <td>3.000000</td>\n",
       "      <td>6.000000</td>\n",
       "      <td>5.000000</td>\n",
       "      <td>2.000000</td>\n",
       "      <td>2.000000</td>\n",
       "      <td>2.000000</td>\n",
       "      <td>2.000000</td>\n",
       "      <td>2.000000</td>\n",
       "      <td>1.000000</td>\n",
       "      <td>1.000000</td>\n",
       "      <td>0.000000</td>\n",
       "      <td>41401.000000</td>\n",
       "      <td>4.000000</td>\n",
       "      <td>11210.000000</td>\n",
       "    </tr>\n",
       "    <tr>\n",
       "      <td>max</td>\n",
       "      <td>2.000000</td>\n",
       "      <td>212.000000</td>\n",
       "      <td>307.000000</td>\n",
       "      <td>307.000000</td>\n",
       "      <td>3.000000</td>\n",
       "      <td>7.000000</td>\n",
       "      <td>7.000000</td>\n",
       "      <td>7.000000</td>\n",
       "      <td>4.000000</td>\n",
       "      <td>3.000000</td>\n",
       "      <td>3.000000</td>\n",
       "      <td>3.000000</td>\n",
       "      <td>3.000000</td>\n",
       "      <td>3.000000</td>\n",
       "      <td>20.000000</td>\n",
       "      <td>3000.000000</td>\n",
       "      <td>41401.000000</td>\n",
       "      <td>4.000000</td>\n",
       "      <td>14992.000000</td>\n",
       "    </tr>\n",
       "  </tbody>\n",
       "</table>\n",
       "</div>"
      ],
      "text/plain": [
       "              Type          Age       Breed1       Breed2       Gender  \\\n",
       "count  8465.000000  8465.000000  8465.000000  8465.000000  8465.000000   \n",
       "mean      1.453160    10.393621   265.767750    74.309155     1.779917   \n",
       "std       0.497831    17.874214    59.574473   123.397664     0.681322   \n",
       "min       1.000000     0.000000     0.000000     0.000000     1.000000   \n",
       "25%       1.000000     2.000000   265.000000     0.000000     1.000000   \n",
       "50%       1.000000     3.000000   266.000000     0.000000     2.000000   \n",
       "75%       2.000000    12.000000   307.000000   187.000000     2.000000   \n",
       "max       2.000000   212.000000   307.000000   307.000000     3.000000   \n",
       "\n",
       "            Color1       Color2       Color3  MaturitySize    FurLength  \\\n",
       "count  8465.000000  8465.000000  8465.000000   8465.000000  8465.000000   \n",
       "mean      2.235558     3.228825     1.852688      1.861784     1.466037   \n",
       "std       1.749976     2.745287     2.972092      0.545895     0.596984   \n",
       "min       1.000000     0.000000     0.000000      1.000000     1.000000   \n",
       "25%       1.000000     0.000000     0.000000      2.000000     1.000000   \n",
       "50%       2.000000     2.000000     0.000000      2.000000     1.000000   \n",
       "75%       3.000000     6.000000     5.000000      2.000000     2.000000   \n",
       "max       7.000000     7.000000     7.000000      4.000000     3.000000   \n",
       "\n",
       "        Vaccinated     Dewormed   Sterilized       Health     Quantity  \\\n",
       "count  8465.000000  8465.000000  8465.000000  8465.000000  8465.000000   \n",
       "mean      1.729711     1.567986     1.909864     1.036976     1.585470   \n",
       "std       0.667888     0.700318     0.559991     0.199665     1.475878   \n",
       "min       1.000000     1.000000     1.000000     1.000000     1.000000   \n",
       "25%       1.000000     1.000000     2.000000     1.000000     1.000000   \n",
       "50%       2.000000     1.000000     2.000000     1.000000     1.000000   \n",
       "75%       2.000000     2.000000     2.000000     1.000000     1.000000   \n",
       "max       3.000000     3.000000     3.000000     3.000000    20.000000   \n",
       "\n",
       "               Fee         State  AdoptionSpeed           PID  \n",
       "count  8465.000000   8465.000000    8465.000000   8465.000000  \n",
       "mean     21.387714  41345.893089       2.522032   7501.166450  \n",
       "std      80.814709     32.356357       1.173719   4305.337337  \n",
       "min       0.000000  41324.000000       0.000000      0.000000  \n",
       "25%       0.000000  41326.000000       2.000000   3777.000000  \n",
       "50%       0.000000  41326.000000       2.000000   7530.000000  \n",
       "75%       0.000000  41401.000000       4.000000  11210.000000  \n",
       "max    3000.000000  41401.000000       4.000000  14992.000000  "
      ]
     },
     "execution_count": 4,
     "metadata": {},
     "output_type": "execute_result"
    }
   ],
   "source": [
    "dataset, dev_dataset, test_dataset = load_dataset(DATA_DIRECTORY)\n",
    "nlabels = dataset[TARGET_COL].unique().shape[0]\n",
    "dataset.describe()"
   ]
  },
  {
   "cell_type": "code",
   "execution_count": 5,
   "metadata": {},
   "outputs": [
    {
     "data": {
      "text/plain": [
       "<seaborn.axisgrid.JointGrid at 0x7f2ad0415250>"
      ]
     },
     "execution_count": 5,
     "metadata": {},
     "output_type": "execute_result"
    },
    {
     "data": {
      "text/plain": [
       "<Figure size 720x432 with 0 Axes>"
      ]
     },
     "metadata": {},
     "output_type": "display_data"
    },
    {
     "data": {
      "image/png": "[encoded data removed]",
      "text/plain": [
       "<Figure size 432x432 with 3 Axes>"
      ]
     },
     "metadata": {
      "needs_background": "light"
     },
     "output_type": "display_data"
    }
   ],
   "source": [
    "plt.figure(figsize=(10,6))\n",
    "seaborn.jointplot(data=dataset, x='Type', y='AdoptionSpeed', kind='kde')"
   ]
  },
  {
   "cell_type": "code",
   "execution_count": 6,
   "metadata": {},
   "outputs": [
    {
     "data": {
      "image/png": "[encoded data removed]",
      "text/plain": [
       "<Figure size 720x432 with 1 Axes>"
      ]
     },
     "metadata": {
      "needs_background": "light"
     },
     "output_type": "display_data"
    }
   ],
   "source": [
    "plt.figure(figsize=(10,6))\n",
    " \n",
    "seaborn.regplot(data=dataset, x= 'Fee' , y='AdoptionSpeed')\n",
    "plt.xticks(rotation=45)\n",
    "seaborn.despine()"
   ]
  },
  {
   "cell_type": "code",
   "execution_count": 7,
   "metadata": {},
   "outputs": [
    {
     "data": {
      "image/png": "[encoded data removed]",
      "text/plain": [
       "<Figure size 432x288 with 1 Axes>"
      ]
     },
     "metadata": {
      "needs_background": "light"
     },
     "output_type": "display_data"
    }
   ],
   "source": [
    "seaborn.countplot(dataset.AdoptionSpeed, color='blue')\n",
    "seaborn.despine()"
   ]
  },
  {
   "cell_type": "code",
   "execution_count": 8,
   "metadata": {},
   "outputs": [],
   "source": [
    "try:\n",
    "    # %tensorflow_version only exists in Colab.\n",
    "    %tensorflow_version 2.x\n",
    "except Exception:\n",
    "    pass\n",
    "import tensorflow as tf\n",
    "\n",
    "from tensorflow.keras import layers, models"
   ]
  },
  {
   "cell_type": "code",
   "execution_count": 9,
   "metadata": {},
   "outputs": [
    {
     "data": {
      "image/png": "[encoded data removed]",
      "text/plain": [
       "<Figure size 432x288 with 1 Axes>"
      ]
     },
     "metadata": {
      "needs_background": "light"
     },
     "output_type": "display_data"
    }
   ],
   "source": [
    "seaborn.countplot(dataset.State, color='red')\n",
    "seaborn.despine()"
   ]
  },
  {
   "cell_type": "code",
   "execution_count": 10,
   "metadata": {},
   "outputs": [],
   "source": [
    "one_hot_columns = {\n",
    "    one_hot_col: dataset[one_hot_col].max()\n",
    "    for one_hot_col in ['Gender', 'Color1' ,'Type' ,'Color2', 'Color3', 'MaturitySize','Vaccinated' ,'Dewormed', 'Sterilized','Health']\n",
    "}\n",
    "#crea un diccionario con nombre de col y valor maximo de cada categoria ej: {'Gender': 3, 'Color1': 7}\n",
    "\n",
    "embedded_columns = {\n",
    "    embedded_col: dataset[embedded_col].max() + 1\n",
    "    for embedded_col in ['Breed1','Breed2']\n",
    "} \n",
    "\n",
    "numeric_columns = ['Age', 'Fee']"
   ]
  },
  {
   "cell_type": "code",
   "execution_count": 11,
   "metadata": {},
   "outputs": [],
   "source": [
    "def process_features(df, test=False):\n",
    "    direct_features = []\n",
    "\n",
    "    # Create one hot encodings\n",
    "    for one_hot_col, max_value in one_hot_columns.items():\n",
    "        direct_features.append(tf.keras.utils.to_categorical(df[one_hot_col] - 1, max_value))\n",
    "           \n",
    "    # Concatenate all features that don't need further embedding into a single matrix.\n",
    "    features = {'direct_features': numpy.hstack(direct_features)}\n",
    "\n",
    "    # Create embedding columns - nothing to do here. We will use the zero embedding for OOV\n",
    "    for embedded_col in embedded_columns.keys():\n",
    "        features[embedded_col] = df[embedded_col].values\n",
    "\n",
    "    # Create and append numeric columns   \n",
    "    #normalizado Agregado por JPA\n",
    "    for n_col in numeric_columns:\n",
    "        features[n_col] = df[n_col].values - df[n_col].mean() / df[n_col].std()\n",
    "        \n",
    "    if not test:\n",
    "        nlabels = df[TARGET_COL].unique().shape[0]\n",
    "        # Convert labels to one-hot encodings\n",
    "        targets = tf.keras.utils.to_categorical(df[TARGET_COL], nlabels)\n",
    "    else:\n",
    "        targets = None\n",
    "        \n",
    "    \n",
    "    return features, targets"
   ]
  },
  {
   "cell_type": "code",
   "execution_count": 12,
   "metadata": {},
   "outputs": [],
   "source": [
    "BATCH_SIZE = 32\n",
    "SHUFFLE_BUFFER_SIZE = 50\n",
    "\n",
    "X_train, y_train = process_features(dataset)\n",
    "direct_features_input_shape = (X_train['direct_features'].shape[1],)\n",
    "\n",
    "train_ds = tf.data.Dataset.from_tensor_slices((X_train, y_train)).batch(BATCH_SIZE).shuffle(buffer_size=SHUFFLE_BUFFER_SIZE)\n",
    "\n",
    "X_dev, y_dev = process_features(dev_dataset)\n",
    "\n",
    "test_ds = tf.data.Dataset.from_tensor_slices((X_dev, y_dev)).batch(BATCH_SIZE)\n",
    "\n",
    "#Kaggle salida para la competencia.\n",
    "X_kagg, y_kagg = process_features(test_dataset, test=True)\n",
    "kagg_ds = tf.data.Dataset.from_tensor_slices(X_kagg).batch(BATCH_SIZE)"
   ]
  },
  {
   "cell_type": "code",
   "execution_count": 27,
   "metadata": {},
   "outputs": [],
   "source": [
    "tf.keras.backend.clear_session()"
   ]
  },
  {
   "cell_type": "code",
   "execution_count": 28,
   "metadata": {},
   "outputs": [
    {
     "name": "stdout",
     "output_type": "stream",
     "text": [
      "Adding embedding of size 77 for layer Breed1\n",
      "Adding embedding of size 77 for layer Breed2\n",
      "Model: \"model\"\n",
      "__________________________________________________________________________________________________\n",
      "Layer (type)                    Output Shape         Param #     Connected to                     \n",
      "==================================================================================================\n",
      "Breed1 (InputLayer)             [(None, 1)]          0                                            \n",
      "__________________________________________________________________________________________________\n",
      "Breed2 (InputLayer)             [(None, 1)]          0                                            \n",
      "__________________________________________________________________________________________________\n",
      "embedding (Embedding)           (None, 1, 77)        23716       Breed1[0][0]                     \n",
      "__________________________________________________________________________________________________\n",
      "embedding_1 (Embedding)         (None, 1, 77)        23716       Breed2[0][0]                     \n",
      "__________________________________________________________________________________________________\n",
      "tf_op_layer_Squeeze (TensorFlow [(None, 77)]         0           embedding[0][0]                  \n",
      "__________________________________________________________________________________________________\n",
      "tf_op_layer_Squeeze_1 (TensorFl [(None, 77)]         0           embedding_1[0][0]                \n",
      "__________________________________________________________________________________________________\n",
      "direct_features (InputLayer)    [(None, 42)]         0                                            \n",
      "__________________________________________________________________________________________________\n",
      "concatenate (Concatenate)       (None, 196)          0           tf_op_layer_Squeeze[0][0]        \n",
      "                                                                 tf_op_layer_Squeeze_1[0][0]      \n",
      "                                                                 direct_features[0][0]            \n",
      "__________________________________________________________________________________________________\n",
      "dense (Dense)                   (None, 100)          19700       concatenate[0][0]                \n",
      "__________________________________________________________________________________________________\n",
      "dropout (Dropout)               (None, 100)          0           dense[0][0]                      \n",
      "__________________________________________________________________________________________________\n",
      "dense_1 (Dense)                 (None, 50)           5050        dropout[0][0]                    \n",
      "__________________________________________________________________________________________________\n",
      "dropout_1 (Dropout)             (None, 50)           0           dense_1[0][0]                    \n",
      "__________________________________________________________________________________________________\n",
      "dense_2 (Dense)                 (None, 25)           1275        dropout_1[0][0]                  \n",
      "__________________________________________________________________________________________________\n",
      "dense_3 (Dense)                 (None, 5)            130         dense_2[0][0]                    \n",
      "==================================================================================================\n",
      "Total params: 73,587\n",
      "Trainable params: 73,587\n",
      "Non-trainable params: 0\n",
      "__________________________________________________________________________________________________\n"
     ]
    }
   ],
   "source": [
    "HIDDEN_LAYER_SIZE = 100\n",
    "DROPOUT_RATE = 0.25\n",
    "\n",
    "# Add one input and one embedding for each embedded column\n",
    "embedding_layers = []\n",
    "inputs = []\n",
    "\n",
    "for embedded_col, max_value in embedded_columns.items():\n",
    "    input_layer = layers.Input(shape=(1,), name=embedded_col)\n",
    "    inputs.append(input_layer)\n",
    "    # Define the embedding layer\n",
    "    embedding_size = int(max_value / 4)\n",
    "    embedding_layers.append(\n",
    "        tf.squeeze(layers.Embedding(input_dim=max_value, output_dim=embedding_size)(input_layer), axis=-2))\n",
    "    \n",
    "    print('Adding embedding of size {} for layer {}'.format(embedding_size, embedded_col))\n",
    "\n",
    "# Add the direct features already calculated\n",
    "direct_features_input = layers.Input(shape=direct_features_input_shape, name='direct_features')\n",
    "inputs.append(direct_features_input)\n",
    "            \n",
    "# Concatenate everything together\n",
    "features = layers.concatenate(embedding_layers + [direct_features_input])\n",
    "\n",
    "dense1 = layers.Dense(HIDDEN_LAYER_SIZE, activation='relu')(features)\n",
    "\n",
    "drop1 = layers.Dropout(DROPOUT_RATE)(dense1)\n",
    "\n",
    "dense2 = layers.Dense(HIDDEN_LAYER_SIZE / 2, activation='relu')(drop1)\n",
    "\n",
    "drop2 = layers.Dropout(DROPOUT_RATE)(dense2)\n",
    "\n",
    "dense3 = layers.Dense(HIDDEN_LAYER_SIZE / 4, activation='relu')(drop2)\n",
    "\n",
    "output_layer = layers.Dense(nlabels, activation='softmax')(dense3)\n",
    "\n",
    "model = models.Model(inputs=inputs, outputs=output_layer)\n",
    "\n",
    " \n",
    "model.compile(loss='categorical_crossentropy', optimizer='adam', metrics=['accuracy'])\n",
    "model.summary()"
   ]
  },
  {
   "cell_type": "code",
   "execution_count": 29,
   "metadata": {},
   "outputs": [
    {
     "name": "stdout",
     "output_type": "stream",
     "text": [
      "INFO: 'tp1_20191018_03' does not exist. Creating a new experiment\n",
      "Epoch 1/10\n",
      "265/265 [==============================] - 2s 7ms/step - loss: 1.4599 - accuracy: 0.3004\n",
      "Epoch 2/10\n",
      "265/265 [==============================] - 1s 4ms/step - loss: 1.4166 - accuracy: 0.3433\n",
      "Epoch 3/10\n",
      "265/265 [==============================] - 1s 4ms/step - loss: 1.4032 - accuracy: 0.3648\n",
      "Epoch 4/10\n",
      "265/265 [==============================] - 1s 4ms/step - loss: 1.3919 - accuracy: 0.3677\n",
      "Epoch 5/10\n",
      "265/265 [==============================] - 1s 4ms/step - loss: 1.3850 - accuracy: 0.3755\n",
      "Epoch 6/10\n",
      "265/265 [==============================] - 1s 4ms/step - loss: 1.3762 - accuracy: 0.3778\n",
      "Epoch 7/10\n",
      "265/265 [==============================] - 1s 4ms/step - loss: 1.3650 - accuracy: 0.3888\n",
      "Epoch 8/10\n",
      "265/265 [==============================] - 1s 4ms/step - loss: 1.3553 - accuracy: 0.3947\n",
      "Epoch 9/10\n",
      "265/265 [==============================] - 1s 4ms/step - loss: 1.3480 - accuracy: 0.4021\n",
      "Epoch 10/10\n",
      "265/265 [==============================] - 1s 4ms/step - loss: 1.3369 - accuracy: 0.3993\n",
      "67/67 [==============================] - 0s 4ms/step - loss: 1.4342 - accuracy: 0.3514\n",
      "\n",
      "Validation dataset > loss: 1.4342256108326699 - accuracy: 0.3514407277107239\n"
     ]
    }
   ],
   "source": [
    "import mlflow\n",
    "mlflow.set_experiment('tp1_20191018_03')\n",
    "\n",
    "epochs = 10\n",
    "\n",
    "with mlflow.start_run(nested=True):\n",
    "    # Log model hiperparameters first        \n",
    "    mlflow.log_param('epochs', epochs)\n",
    "    mlflow.log_param('batch_size',BATCH_SIZE)\n",
    "    mlflow.log_param('hidden_layer_size', HIDDEN_LAYER_SIZE)\n",
    "    mlflow.log_param('hidden_layer_size_2', HIDDEN_LAYER_SIZE / 2)\n",
    "    mlflow.log_param('hidden_layer_size_3', HIDDEN_LAYER_SIZE / 4)\n",
    "    mlflow.log_param('droupout_rate', DROPOUT_RATE)\n",
    "    mlflow.log_param('columns.embedded', embedded_columns)\n",
    "    mlflow.log_param('columns.one_hot', one_hot_columns)\n",
    "    mlflow.log_param('columns.numerical', numeric_columns)  \n",
    "    mlflow.log_param('train_ds.shuffle', True)  \n",
    "    \n",
    "    # Train    \n",
    "    history = model.fit(train_ds, epochs=epochs)\n",
    "    \n",
    "    # Evaluate\n",
    "    loss, accuracy = model.evaluate(test_ds)\n",
    "    \n",
    "    print(\"\")\n",
    "    print(\"Validation dataset > loss: {} - accuracy: {}\".format(loss, accuracy))\n",
    "    \n",
    "    \n",
    "    mlflow.log_metric('epochs', epochs)\n",
    "    mlflow.log_metric('loss', loss)\n",
    "    mlflow.log_metric('valid.accuracy', accuracy)\n",
    "    mlflow.log_metric('train.accuracy', history.history['accuracy'][epochs - 1])"
   ]
  },
  {
   "cell_type": "code",
   "execution_count": null,
   "metadata": {},
   "outputs": [],
   "source": []
  }
 ],
 "metadata": {
  "kernelspec": {
   "display_name": "Python [conda env:deeplearning] *",
   "language": "python",
   "name": "conda-env-deeplearning-py"
  },
  "language_info": {
   "codemirror_mode": {
    "name": "ipython",
    "version": 3
   },
   "file_extension": ".py",
   "mimetype": "text/x-python",
   "name": "python",
   "nbconvert_exporter": "python",
   "pygments_lexer": "ipython3",
   "version": "3.7.4"
  }
 },
 "nbformat": 4,
 "nbformat_minor": 2
}
